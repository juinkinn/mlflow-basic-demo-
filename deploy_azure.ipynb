{
 "cells": [
  {
   "cell_type": "markdown",
   "id": "ae9d886d",
   "metadata": {},
   "source": [
    "## Load model from local to AzureML"
   ]
  },
  {
   "cell_type": "code",
   "execution_count": 1,
   "id": "6f16b739",
   "metadata": {},
   "outputs": [
    {
     "data": {
      "text/plain": [
       "'/home/vinht/git/mlflow-basic-demo-/mlruns/882174233667255794/models/m-ac4472aa70d34185b8dec9d402e951ad/artifacts'"
      ]
     },
     "execution_count": 1,
     "metadata": {},
     "output_type": "execute_result"
    }
   ],
   "source": [
    "import mlflow\n",
    "from mlflow.deployments import get_deploy_client\n",
    "import datetime\n",
    "import json\n",
    "\n",
    "model_name = 'GradientBoostingRegressor_California'\n",
    "model_version = 1\n",
    "model_uri = f'models:/{model_name}/{model_version}'\n",
    "\n",
    "local_path = mlflow.artifacts.download_artifacts(\n",
    "    artifact_uri=f\"models:/{model_name}/{model_version}\"\n",
    ")\n",
    "\n",
    "local_path"
   ]
  },
  {
   "cell_type": "code",
   "execution_count": null,
   "id": "203e90fa",
   "metadata": {},
   "outputs": [
    {
     "name": "stderr",
     "output_type": "stream",
     "text": [
      "gio: https://login.microsoftonline.com/organizations/oauth2/v2.0/authorize?client_id=04b07795-8ddb-461a-bbee-02f9e1bf7b46&response_type=code&redirect_uri=http%3A%2F%2Flocalhost%3A8400&scope=https%3A%2F%2Fmanagement.azure.com%2F.default+offline_access+openid+profile&state=rhgoLijCTIlxGQPR&code_challenge=qK1FTUAwOWghQrxFwESrZk--mlhY7q-Jr6eg4tF0iW8&code_challenge_method=S256&nonce=4353214bcd92bae65b1cb037bbf6ebb52870105e4af71ce7d1015266e42c0a57&client_info=1&prompt=select_account: Operation not supported\n",
      "Registered model 'GBRegressor' already exists. Creating a new version of this model...\n",
      "2025/08/15 12:10:25 INFO mlflow.store.model_registry.abstract_store: Waiting up to 300 seconds for model version to finish creation. Model name: GBRegressor, version 1\n",
      "Created version '1' of model 'GBRegressor'.\n"
     ]
    },
    {
     "data": {
      "text/plain": [
       "<ModelVersion: aliases=[], creation_timestamp=1755259822721, current_stage='None', deployment_job_state=<ModelVersionDeploymentJobState: current_task_name='', job_id='', job_state='DEPLOYMENT_JOB_CONNECTION_STATE_UNSPECIFIED', run_id='', run_state='DEPLOYMENT_JOB_RUN_STATE_UNSPECIFIED'>, description=None, last_updated_timestamp=1755259822721, metrics=None, model_id=None, name='GBRegressor', params=None, run_id=None, run_link='', source='azureml://artifacts/LocalUpload/250815T121019-65bc2d4c/artifacts', status='READY', status_message=None, tags={}, user_id='', version='1'>"
      ]
     },
     "execution_count": 2,
     "metadata": {},
     "output_type": "execute_result"
    }
   ],
   "source": [
    "mlflow_tracking_uri = 'your-mlflow-uri-on-azureml-workspace'\n",
    "mlflow.set_tracking_uri(mlflow_tracking_uri)\n",
    "\n",
    "mlflow.register_model(\n",
    "    model_uri=f'file://{local_path}', name='GBRegressor'\n",
    ")"
   ]
  },
  {
   "cell_type": "markdown",
   "id": "9bd8f202",
   "metadata": {},
   "source": [
    "## Create endpoint"
   ]
  },
  {
   "cell_type": "code",
   "execution_count": 3,
   "id": "ff73770e",
   "metadata": {},
   "outputs": [],
   "source": [
    "deployment_client = get_deploy_client(mlflow.get_tracking_uri())\n",
    "\n",
    "endpoint_name = 'GBRegressor-' + datetime.datetime.now().strftime(\"%m%d%H%M%f\")\n",
    "endpoint_config = {\n",
    "    \"auth_mode\": \"key\",\n",
    "    \"identity\": {\n",
    "        \"type\": \"system_assigned\"\n",
    "    }\n",
    "}\n",
    "\n",
    "endpoint_config_path = \"endpoint_config.json\"\n",
    "with open(endpoint_config_path, \"w\") as out:\n",
    "    out.write(json.dumps(endpoint_config))"
   ]
  },
  {
   "cell_type": "code",
   "execution_count": 4,
   "id": "2100e111",
   "metadata": {},
   "outputs": [],
   "source": [
    "endpoint = deployment_client.create_endpoint(\n",
    "    name=endpoint_name,\n",
    "    config={\"endpoint-config-file\": endpoint_config_path},\n",
    ")"
   ]
  },
  {
   "cell_type": "markdown",
   "id": "b58a6ef6",
   "metadata": {},
   "source": [
    "## Create deployment"
   ]
  },
  {
   "cell_type": "code",
   "execution_count": 5,
   "id": "d79b0c0b",
   "metadata": {},
   "outputs": [],
   "source": [
    "blue_deployment_name = \"blue\"\n",
    "\n",
    "deploy_config = {\n",
    "    \"instance_type\": \"Standard_F4s_v2\",\n",
    "    \"instance_count\": 1,\n",
    "}\n",
    "\n",
    "deployment_config_path = \"deployment_config.json\"\n",
    "with open(deployment_config_path, \"w\") as outfile:\n",
    "    outfile.write(json.dumps(deploy_config))"
   ]
  },
  {
   "cell_type": "code",
   "execution_count": 6,
   "id": "35cd27cc",
   "metadata": {},
   "outputs": [
    {
     "name": "stderr",
     "output_type": "stream",
     "text": [
      "/home/vinht/miniconda3/envs/my_env/lib/python3.12/site-packages/azureml/mlflow/deploy/_util.py:64: FutureWarning: ``mlflow.tracking.client.MlflowClient.get_model_version_stages`` is deprecated since 2.9.0. Model registry stages will be removed in a future major release. To learn more about the deprecation of model registry stages, see our migration guide here: https://mlflow.org/docs/latest/model-registry.html#migrating-from-stages\n",
      "  if model_stage_or_version in client.get_model_version_stages(None, None):\n"
     ]
    },
    {
     "name": "stdout",
     "output_type": "stream",
     "text": [
      "........................................................................................................................................................................................"
     ]
    }
   ],
   "source": [
    "blue_deployment = deployment_client.create_deployment(\n",
    "    name=blue_deployment_name,\n",
    "    endpoint=endpoint_name,\n",
    "    model_uri=f\"models:/GBRegressor/1\",\n",
    "    config={\"deploy-config-file\": deployment_config_path},\n",
    ")"
   ]
  },
  {
   "cell_type": "code",
   "execution_count": 7,
   "id": "525df416",
   "metadata": {},
   "outputs": [],
   "source": [
    "traffic_config = {\"traffic\": {blue_deployment_name: 100}}\n",
    "\n",
    "traffic_config_path = \"traffic_config.json\"\n",
    "with open(traffic_config_path, \"w\") as outfile:\n",
    "    outfile.write(json.dumps(traffic_config))"
   ]
  },
  {
   "cell_type": "code",
   "execution_count": 8,
   "id": "aea0d21b",
   "metadata": {},
   "outputs": [
    {
     "data": {
      "text/plain": [
       "{'id': '/subscriptions/1d90e0f8-e2bc-4019-aadb-85f8cf30d395/resourceGroups/22127460-rg/providers/Microsoft.MachineLearningServices/workspaces/mlflow-deployment/onlineEndpoints/gbregressor-08151210460811',\n",
       " 'name': 'gbregressor-08151210460811',\n",
       " 'type': 'Microsoft.MachineLearningServices/workspaces/onlineEndpoints',\n",
       " 'systemData': {'createdBy': 'VINH QUÁCH TRẦN QUÁN',\n",
       "  'createdAt': '2025-08-15T12:10:29.089969Z',\n",
       "  'lastModifiedAt': '2025-08-15T12:27:24.026753Z'},\n",
       " 'tags': {},\n",
       " 'location': 'southeastasia',\n",
       " 'identity': {'principalId': '69d91899-8d1d-43dd-a28a-22c8102b40af',\n",
       "  'tenantId': '40127cd4-45f3-49a3-b05d-315a43a9f033',\n",
       "  'type': 'SystemAssigned'},\n",
       " 'kind': 'Managed',\n",
       " 'properties': {'authMode': 'Key',\n",
       "  'properties': {'azureml.onlineendpointid': '/subscriptions/1d90e0f8-e2bc-4019-aadb-85f8cf30d395/resourcegroups/22127460-rg/providers/microsoft.machinelearningservices/workspaces/mlflow-deployment/onlineendpoints/gbregressor-08151210460811',\n",
       "   'AzureAsyncOperationUri': 'https://management.azure.com/subscriptions/1d90e0f8-e2bc-4019-aadb-85f8cf30d395/providers/Microsoft.MachineLearningServices/locations/southeastasia/mfeOperationsStatus/oeidp:cb9e618c-3c96-486f-9190-12309443e709:d6094a70-0a81-46bd-88cc-625673df08d9?api-version=2022-02-01-preview'},\n",
       "  'scoringUri': 'https://gbregressor-08151210460811.southeastasia.inference.ml.azure.com/score',\n",
       "  'swaggerUri': 'https://gbregressor-08151210460811.southeastasia.inference.ml.azure.com/swagger.json',\n",
       "  'mirrorTraffic': {},\n",
       "  'provisioningState': 'Succeeded',\n",
       "  'publicNetworkAccess': 'Enabled',\n",
       "  'traffic': {'blue': 100}}}"
      ]
     },
     "execution_count": 8,
     "metadata": {},
     "output_type": "execute_result"
    }
   ],
   "source": [
    "deployment_client.update_endpoint(\n",
    "    endpoint=endpoint_name,\n",
    "    config={\"endpoint-config-file\": traffic_config_path},\n",
    ")"
   ]
  },
  {
   "cell_type": "markdown",
   "id": "3a6828dd",
   "metadata": {},
   "source": [
    "## Test endpoint using MLflow `predict()` function"
   ]
  },
  {
   "cell_type": "code",
   "execution_count": 9,
   "id": "1b862f9c",
   "metadata": {},
   "outputs": [
    {
     "data": {
      "text/plain": [
       "array([0.50518761])"
      ]
     },
     "execution_count": 9,
     "metadata": {},
     "output_type": "execute_result"
    }
   ],
   "source": [
    "# Read the sample request that's in the JSON file, and then construct a pandas data frame.\n",
    "with open(\"test_azure.json\", \"r\") as f:\n",
    "    sample_request = json.loads(f.read())\n",
    "\n",
    "deployment_client.predict(endpoint=endpoint_name, df=sample_request['input_data'])"
   ]
  }
 ],
 "metadata": {
  "kernelspec": {
   "display_name": "my_env",
   "language": "python",
   "name": "python3"
  },
  "language_info": {
   "codemirror_mode": {
    "name": "ipython",
    "version": 3
   },
   "file_extension": ".py",
   "mimetype": "text/x-python",
   "name": "python",
   "nbconvert_exporter": "python",
   "pygments_lexer": "ipython3",
   "version": "3.12.11"
  }
 },
 "nbformat": 4,
 "nbformat_minor": 5
}
