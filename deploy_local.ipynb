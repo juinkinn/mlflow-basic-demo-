{
 "cells": [
  {
   "cell_type": "markdown",
   "id": "76c4aa93",
   "metadata": {},
   "source": [
    "# Prerequisite\n",
    "\n",
    "Once we have registered a model, we can deploy on a local server using the `mlflow models serve` command for one step deployment. Supposed that we already had a registed model named `GradientBoostingRegressor_California` with version 1.\n",
    "```bash\n",
    "mlflow models serve -m models:/GradientBoostingRegressor_California/1 -p 1234 --enable-mlserver\n",
    "```"
   ]
  },
  {
   "cell_type": "markdown",
   "id": "9ce57eb2",
   "metadata": {},
   "source": [
    "Then we can then send requests to server to test model"
   ]
  },
  {
   "cell_type": "code",
   "execution_count": 1,
   "id": "77b6a0a8",
   "metadata": {},
   "outputs": [],
   "source": [
    "import json\n",
    "import requests\n",
    "import numpy as np"
   ]
  },
  {
   "cell_type": "code",
   "execution_count": 2,
   "id": "eaef2118",
   "metadata": {},
   "outputs": [
    {
     "name": "stdout",
     "output_type": "stream",
     "text": [
      "{'predictions': [0.5051876120863898]}\n"
     ]
    }
   ],
   "source": [
    "url = 'http://localhost:1234/invocations'\n",
    "\n",
    "with open('test_local.json', 'r') as f:\n",
    "    payload = json.load(f)\n",
    "\n",
    "headers = {\n",
    "    'Content-Type': 'application/json',\n",
    "}\n",
    "\n",
    "res = requests.post(url=url, json=payload, headers=headers)\n",
    "\n",
    "print(res.json())"
   ]
  }
 ],
 "metadata": {
  "kernelspec": {
   "display_name": "my_env",
   "language": "python",
   "name": "python3"
  },
  "language_info": {
   "codemirror_mode": {
    "name": "ipython",
    "version": 3
   },
   "file_extension": ".py",
   "mimetype": "text/x-python",
   "name": "python",
   "nbconvert_exporter": "python",
   "pygments_lexer": "ipython3",
   "version": "3.12.11"
  }
 },
 "nbformat": 4,
 "nbformat_minor": 5
}
