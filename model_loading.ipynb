{
 "cells": [
  {
   "cell_type": "markdown",
   "id": "2bfc59c6",
   "metadata": {},
   "source": [
    "# Load Model"
   ]
  },
  {
   "cell_type": "markdown",
   "id": "cf2b224e",
   "metadata": {},
   "source": [
    "## 1. Load via Name and Version"
   ]
  },
  {
   "cell_type": "code",
   "execution_count": 5,
   "id": "1d295595",
   "metadata": {},
   "outputs": [],
   "source": [
    "import mlflow.sklearn\n",
    "\n",
    "model_name = \"GradientBoostingRegressor_California\"\n",
    "model_version = \"1\" \n",
    "\n",
    "model = mlflow.sklearn.load_model(f\"models:/{model_name}/{model_version}\")"
   ]
  },
  {
   "cell_type": "code",
   "execution_count": 6,
   "id": "c33acc1d",
   "metadata": {},
   "outputs": [
    {
     "name": "stdout",
     "output_type": "stream",
     "text": [
      "GradientBoostingRegressor(random_state=42)\n"
     ]
    }
   ],
   "source": [
    "print(model)"
   ]
  },
  {
   "cell_type": "markdown",
   "id": "2253a5f8",
   "metadata": {},
   "source": [
    "## 2. Load via Name and Alias"
   ]
  },
  {
   "cell_type": "code",
   "execution_count": null,
   "id": "afc77151",
   "metadata": {},
   "outputs": [],
   "source": [
    "alias = \"experiment\"\n",
    "model = mlflow.sklearn.load_model(f\"models:/{model_name}@{alias}\")"
   ]
  },
  {
   "cell_type": "code",
   "execution_count": 8,
   "id": "fd8e76cb",
   "metadata": {},
   "outputs": [
    {
     "name": "stdout",
     "output_type": "stream",
     "text": [
      "GradientBoostingRegressor(random_state=42)\n"
     ]
    }
   ],
   "source": [
    "print(model)"
   ]
  }
 ],
 "metadata": {
  "kernelspec": {
   "display_name": "Python 3",
   "language": "python",
   "name": "python3"
  },
  "language_info": {
   "codemirror_mode": {
    "name": "ipython",
    "version": 3
   },
   "file_extension": ".py",
   "mimetype": "text/x-python",
   "name": "python",
   "nbconvert_exporter": "python",
   "pygments_lexer": "ipython3",
   "version": "3.11.9"
  }
 },
 "nbformat": 4,
 "nbformat_minor": 5
}
